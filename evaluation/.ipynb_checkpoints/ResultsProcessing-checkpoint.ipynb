{
 "cells": [
  {
   "cell_type": "code",
   "execution_count": 1,
   "metadata": {},
   "outputs": [],
   "source": [
    "import pandas as pd\n",
    "import os"
   ]
  },
  {
   "cell_type": "code",
   "execution_count": 2,
   "metadata": {},
   "outputs": [
    {
     "data": {
      "text/plain": [
       "['functions.py',\n",
       " '.DS_Store',\n",
       " 'out',\n",
       " 'without_rejects',\n",
       " 'cloud_vision.py',\n",
       " 'ResultsProcessing.ipynb',\n",
       " '__pycache__',\n",
       " 'rect.py',\n",
       " 'parser.py',\n",
       " 'process_detections.py',\n",
       " 'results',\n",
       " 'levenshtein.py',\n",
       " 'imutils.py',\n",
       " '.ipynb_checkpoints',\n",
       " 'ocr_before_after.txt',\n",
       " 'IOU.py',\n",
       " 'process_sample.py',\n",
       " 'goog_ocr.png']"
      ]
     },
     "execution_count": 2,
     "metadata": {},
     "output_type": "execute_result"
    }
   ],
   "source": [
    "os.getcwd()\n",
    "os.listdir(os.getcwd())"
   ]
  },
  {
   "cell_type": "code",
   "execution_count": 2,
   "metadata": {},
   "outputs": [],
   "source": [
    "bg1 = pd.read_csv('results/background01_results.csv')\n",
    "bg2 = pd.read_csv('results/background02_results.csv')\n",
    "bg3 = pd.read_csv('results/background03_results.csv')\n",
    "bg4 = pd.read_csv('results/background04_results.csv')\n",
    "bg5 = pd.read_csv('results/background05_results.csv')\n"
   ]
  },
  {
   "cell_type": "code",
   "execution_count": 3,
   "metadata": {},
   "outputs": [],
   "source": [
    "res_df = pd.concat([bg1, bg2, bg3, bg4, bg5])"
   ]
  },
  {
   "cell_type": "code",
   "execution_count": 4,
   "metadata": {},
   "outputs": [],
   "source": [
    "detections = res_df[res_df['rejected']==False]\n",
    "missed_detections = res_df[res_df['rejected']==True]"
   ]
  },
  {
   "cell_type": "markdown",
   "metadata": {},
   "source": [
    "### Global metrics"
   ]
  },
  {
   "cell_type": "code",
   "execution_count": 5,
   "metadata": {},
   "outputs": [
    {
     "name": "stdout",
     "output_type": "stream",
     "text": [
      "There were 5382 missed detections\n",
      "There were 19507 detections\n",
      "Missed 21.624010607095503% of detections\n",
      "On average, processed 1 frame every 0.017392652376551933 seconds\n",
      "Processing rate in fps: 57.495543425461626\n",
      "Average IOU: 0.8218945601160633\n"
     ]
    }
   ],
   "source": [
    "''''''\n",
    "num_missed = len(missed_detections)\n",
    "total_frames = len(res_df)\n",
    "percent_missed = num_missed/total_frames\n",
    "\n",
    "average_speed = res_df['speed (secs)'].mean()\n",
    "average_iou = detections.IOU.mean()\n",
    "\n",
    "print(\"There were \" + str(num_missed) + \" missed detections\")\n",
    "print(\"There were \" + str(len(detections)) + \" detections\")\n",
    "print(\"Missed \" + str(percent_missed * 100) + \"% of detections\")\n",
    "print(\"On average, processed 1 frame every \" + str(average_speed) + \" seconds\")\n",
    "print(\"Processing rate in fps: \" + str(1/average_speed))\n",
    "print(\"Average IOU: \" + str(average_iou))"
   ]
  },
  {
   "cell_type": "code",
   "execution_count": 6,
   "metadata": {},
   "outputs": [
    {
     "name": "stdout",
     "output_type": "stream",
     "text": [
      "background\n",
      "background01    0.870920\n",
      "background02    0.820264\n",
      "background03    0.904437\n",
      "background04    0.665927\n",
      "background05    0.181560\n",
      "Name: IOU, dtype: float64\n",
      "background\n",
      "background01    6033\n",
      "background02    5255\n",
      "background03    5921\n",
      "background04    1436\n",
      "background05     862\n",
      "Name: rejected, dtype: int64\n"
     ]
    }
   ],
   "source": [
    "bg_groups = detections.groupby(['background', 'document'])\n",
    "print(bg_groups.IOU.mean())\n",
    "print(bg_groups.rejected.count())\n",
    "# print(bg_groups)"
   ]
  },
  {
   "cell_type": "code",
   "execution_count": 16,
   "metadata": {},
   "outputs": [
    {
     "data": {
      "text/plain": [
       "background    document    \n",
       "background01  datasheet001    0.923262\n",
       "              datasheet002    0.829053\n",
       "              datasheet003    0.912973\n",
       "              datasheet004    0.902992\n",
       "              datasheet005    0.923859\n",
       "              letter001       0.918985\n",
       "              letter002       0.896082\n",
       "              letter003       0.913989\n",
       "              letter004       0.920485\n",
       "              letter005       0.844025\n",
       "              magazine001     0.816332\n",
       "              magazine002     0.880187\n",
       "              magazine003     0.734694\n",
       "              magazine004     0.911812\n",
       "              magazine005     0.770317\n",
       "              paper001        0.920399\n",
       "              paper002        0.721668\n",
       "              paper003        0.882199\n",
       "              paper004        0.865046\n",
       "              paper005        0.922728\n",
       "              patent001       0.878304\n",
       "              patent002       0.924569\n",
       "              patent003       0.919365\n",
       "              patent004       0.922796\n",
       "              patent005       0.926988\n",
       "              tax001          0.641337\n",
       "              tax002          0.849831\n",
       "              tax003          0.860708\n",
       "              tax004          0.861628\n",
       "              tax005          0.899849\n",
       "                                ...   \n",
       "background04  tax005          0.597420\n",
       "background05  datasheet001    0.149645\n",
       "              datasheet002    0.148524\n",
       "              datasheet003    0.108019\n",
       "              datasheet004    0.190828\n",
       "              datasheet005    0.171506\n",
       "              letter001       0.128476\n",
       "              letter002       0.126816\n",
       "              letter003       0.151478\n",
       "              letter004       0.243664\n",
       "              letter005       0.139591\n",
       "              magazine001     0.175905\n",
       "              magazine002     0.139660\n",
       "              magazine003     0.115164\n",
       "              magazine004     0.123384\n",
       "              magazine005     0.215511\n",
       "              paper001        0.173648\n",
       "              paper002        0.198580\n",
       "              paper003        0.181125\n",
       "              paper004        0.187311\n",
       "              paper005        0.189713\n",
       "              patent001       0.190096\n",
       "              patent002       0.218151\n",
       "              patent003       0.144156\n",
       "              patent004       0.170961\n",
       "              patent005       0.111256\n",
       "              tax001          0.202212\n",
       "              tax003          0.109353\n",
       "              tax004          0.178285\n",
       "              tax005          0.194215\n",
       "Name: IOU, Length: 144, dtype: float64"
      ]
     },
     "execution_count": 16,
     "metadata": {},
     "output_type": "execute_result"
    }
   ],
   "source": [
    "bgd_groups = detections.groupby(['background', 'document'])\n",
    "bgd_groups.IOU.mean()"
   ]
  },
  {
   "cell_type": "code",
   "execution_count": 7,
   "metadata": {},
   "outputs": [
    {
     "name": "stdout",
     "output_type": "stream",
     "text": [
      "2577 total frames in bg5\n",
      "1715 total rejects in bg5\n",
      "66.55025223127667% of frames not detected in bg5\n",
      "\n",
      "5952 total frames in bg3\n",
      "31 total rejects in bg3\n",
      "0.5208333333333333% of frames not detected in bg3\n",
      "\n",
      "4169 total frames in bg4\n",
      "2733 total rejects in bg4\n",
      "65.55528903813864% of frames not detected in bg4\n",
      "\n",
      "6011 total frames in bg2\n",
      "756 total rejects in bg2\n",
      "12.576942272500416% of frames not detected in bg2\n",
      "\n",
      "6180 total frames in bg1\n",
      "147 total rejects in bg1\n",
      "2.378640776699029% of frames not detected in bg1\n"
     ]
    }
   ],
   "source": [
    "num_bg5 = len(bg5)\n",
    "num_bg5_rejects = len(bg5[bg5['rejected'] == True])\n",
    "print(str(num_bg5) + ' total frames in bg5')\n",
    "print(str(num_bg5_rejects) + ' total rejects in bg5')\n",
    "print(str(num_bg5_rejects/num_bg5 * 100) + '% of frames not detected in bg5')\n",
    "print()\n",
    "\n",
    "num_bg3 = len(bg3)\n",
    "num_bg3_rejects = len(bg3[bg3['rejected'] == True])\n",
    "print(str(num_bg3) + ' total frames in bg3')\n",
    "print(str(num_bg3_rejects) + ' total rejects in bg3')\n",
    "print(str(num_bg3_rejects/num_bg3 * 100) + '% of frames not detected in bg3')\n",
    "print()\n",
    "\n",
    "num_bg4 = len(bg4)\n",
    "num_bg4_rejects = len(bg4[bg4['rejected'] == True])\n",
    "print(str(num_bg4) + ' total frames in bg4')\n",
    "print(str(num_bg4_rejects) + ' total rejects in bg4')\n",
    "print(str(num_bg4_rejects/num_bg4 * 100) + '% of frames not detected in bg4')\n",
    "print()\n",
    "\n",
    "num_bg2 = len(bg2)\n",
    "num_bg2_rejects = len(bg2[bg2['rejected'] == True])\n",
    "print(str(num_bg2) + ' total frames in bg2')\n",
    "print(str(num_bg2_rejects) + ' total rejects in bg2')\n",
    "print(str(num_bg2_rejects/num_bg2 * 100) + '% of frames not detected in bg2')\n",
    "print()\n",
    "\n",
    "num_bg1 = len(bg1)\n",
    "num_bg1_rejects = len(bg1[bg1['rejected'] == True])\n",
    "print(str(num_bg1) + ' total frames in bg1')\n",
    "print(str(num_bg1_rejects) + ' total rejects in bg1')\n",
    "print(str(num_bg1_rejects/num_bg1 * 100) + '% of frames not detected in bg1')"
   ]
  },
  {
   "cell_type": "code",
   "execution_count": 8,
   "metadata": {},
   "outputs": [
    {
     "name": "stdout",
     "output_type": "stream",
     "text": [
      "14949 detections had an IOU above 0.80\n",
      "That is 76.6340288101707% of total detections\n",
      "That is 60.062678291614766% of total frames\n"
     ]
    }
   ],
   "source": [
    "good_detections = detections[detections['IOU'] >= 0.80]\n",
    "print(str(len(good_detections)) + \" detections had an IOU above 0.80\")\n",
    "print(\"That is \" + str(len(good_detections) / len(detections) * 100) + \"% of total detections\")\n",
    "print(\"That is \" + str(len(good_detections) / len(res_df) * 100) + \"% of total frames\")"
   ]
  },
  {
   "cell_type": "markdown",
   "metadata": {},
   "source": [
    "### Class metrics"
   ]
  },
  {
   "cell_type": "code",
   "execution_count": 9,
   "metadata": {},
   "outputs": [],
   "source": [
    "classes = ['letter', 'datasheet', 'patent', 'magazine', 'paper']\n",
    "letters = res_df[res_df['document'].str.startswith('letter')]\n",
    "datasheets = res_df[res_df['document'].str.startswith('datasheet')]\n",
    "patents = res_df[res_df['document'].str.startswith('patent')]\n",
    "magazines = res_df[res_df['document'].str.startswith('magazine')]\n",
    "papers = res_df[res_df['document'].str.startswith('paper')]"
   ]
  },
  {
   "cell_type": "code",
   "execution_count": 38,
   "metadata": {},
   "outputs": [
    {
     "name": "stdout",
     "output_type": "stream",
     "text": [
      "294\n",
      "3127\n"
     ]
    }
   ],
   "source": [
    "print(len(datasheets[(datasheets['rejected']==True) & (datasheets['background']=='background02')]))\n",
    "print(len(datasheets[datasheets['rejected']==False]))"
   ]
  },
  {
   "cell_type": "code",
   "execution_count": 34,
   "metadata": {},
   "outputs": [
    {
     "name": "stdout",
     "output_type": "stream",
     "text": [
      "                rejected\n",
      "background              \n",
      "background01 0  1.000000\n",
      "background02 0  0.715667\n",
      "             1  0.284333\n",
      "background03 0  1.000000\n",
      "background04 1  0.757463\n",
      "             0  0.242537\n",
      "background05 1  0.802222\n",
      "             0  0.197778\n",
      "                rejected\n",
      "background              \n",
      "background01 0  1.000000\n",
      "background02 0  0.976371\n",
      "             1  0.023629\n",
      "background03 0  0.973931\n",
      "             1  0.026069\n",
      "background04 1  0.791269\n",
      "             0  0.208731\n",
      "background05 1  0.835470\n",
      "             0  0.164530\n",
      "                rejected\n",
      "background              \n",
      "background01 0  0.960340\n",
      "             1  0.039660\n",
      "background02 0  0.697062\n",
      "             1  0.302938\n",
      "background03 0  0.993846\n",
      "             1  0.006154\n",
      "background04 0  0.702918\n",
      "             1  0.297082\n",
      "background05 1  0.678571\n",
      "             0  0.321429\n",
      "                rejected\n",
      "background              \n",
      "background01 0  0.976096\n",
      "             1  0.023904\n",
      "background02 0  0.970865\n",
      "             1  0.029135\n",
      "background03 0  1.000000\n",
      "background04 1  0.929012\n",
      "             0  0.070988\n",
      "background05 0  0.781327\n",
      "             1  0.218673\n",
      "                rejected\n",
      "background              \n",
      "background01 0  0.945274\n",
      "             1  0.054726\n",
      "background02 0  0.949462\n",
      "             1  0.050538\n",
      "background03 0  1.000000\n",
      "background04 1  0.808576\n",
      "             0  0.191424\n",
      "background05 1  0.641026\n",
      "             0  0.358974\n"
     ]
    }
   ],
   "source": [
    "# print(letters.groupby(['background']).apply(lambda x: len(x)/(x.sum())))\n",
    "\n",
    "# letters.groupby(['background']).apply(lambda x: x[['rejected']].apply(lambda y: len(y) / len(x['rejected'])).fillna(0))\n",
    "# letters.groupby(['background']).rejected.apply(lambda x: x[['rejected']].apply(lambda y: len(y) / len(x['rejected'])).fillna(0))\n",
    "print(datasheets.groupby(['background']).apply(lambda x: x[['rejected']].apply(lambda y: y.value_counts()/len(x[['rejected']]))))\n",
    "print(letters.groupby(['background']).apply(lambda x: x[['rejected']].apply(lambda y: y.value_counts()/len(x[['rejected']]))))\n",
    "print(magazines.groupby(['background']).apply(lambda x: x[['rejected']].apply(lambda y: y.value_counts()/len(x[['rejected']]))))\n",
    "print(papers.groupby(['background']).apply(lambda x: x[['rejected']].apply(lambda y: y.value_counts()/len(x[['rejected']]))))\n",
    "print(patents.groupby(['background']).apply(lambda x: x[['rejected']].apply(lambda y: y.value_counts()/len(x[['rejected']]))))\n",
    "\n",
    "# res_df.groupby(['background']).apply(lambda x: x[['rejected']].apply(lambda y: y.value_counts()/len(x[['rejected']])))\n",
    "\n"
   ]
  },
  {
   "cell_type": "code",
   "execution_count": 20,
   "metadata": {},
   "outputs": [
    {
     "name": "stdout",
     "output_type": "stream",
     "text": [
      "                            frame       IOU  speed (secs)\n",
      "background   rejected                                    \n",
      "background01 0         101.781621  0.898866      0.016440\n",
      "background02 0         108.301065  0.912020      0.015149\n",
      "             1          70.600000 -1.000000      0.018696\n",
      "background03 0          95.517131  0.920306      0.014921\n",
      "             1         137.920000 -1.000000      0.018742\n",
      "background04 0          86.509804  0.670962      0.017138\n",
      "             1          70.491379 -1.000000      0.020805\n",
      "background05 0          40.168831  0.156190      0.020378\n",
      "             1          48.966752 -1.000000      0.026779\n",
      "                            frame       IOU  speed (secs)\n",
      "background   rejected                                    \n",
      "background01 0         109.088889  0.900260      0.016265\n",
      "background02 0         100.731081  0.860529      0.015169\n",
      "             1         112.581633 -1.000000      0.018807\n",
      "background03 0         103.572825  0.925810      0.015376\n",
      "background04 0          70.702564  0.613622      0.016819\n",
      "             1          84.532020 -1.000000      0.020528\n",
      "background05 0          44.966292  0.174600      0.018657\n",
      "             1          45.844875 -1.000000      0.025893\n",
      "                            frame       IOU  speed (secs)\n",
      "background   rejected                                    \n",
      "background01 0         101.988421  0.914837      0.015969\n",
      "             1          90.454545 -1.000000      0.019353\n",
      "background02 0          94.614949  0.784001      0.015124\n",
      "             1          92.531915 -1.000000      0.018440\n",
      "background03 0         102.774289  0.888765      0.015334\n",
      "background04 0          66.760000  0.723853      0.016924\n",
      "             1          65.638258 -1.000000      0.020283\n",
      "background05 0          45.253247  0.183813      0.017471\n",
      "             1          42.483636 -1.000000      0.025112\n",
      "                            frame       IOU  speed (secs)\n",
      "background   rejected                                    \n",
      "background01 0         104.453294  0.828947      0.016174\n",
      "             1         163.000000 -1.000000      0.019266\n",
      "background02 0          99.229651  0.667287      0.015974\n",
      "             1         102.260870 -1.000000      0.018718\n",
      "background03 0          98.583075  0.890839      0.015997\n",
      "             1          93.833333 -1.000000      0.020102\n",
      "background04 0          78.550943  0.696965      0.016305\n",
      "             1          70.919643 -1.000000      0.021140\n",
      "background05 0          47.496296  0.182221      0.018902\n",
      "             1          40.263158 -1.000000      0.023897\n",
      "                            frame       IOU  speed (secs)\n",
      "background   rejected                                    \n",
      "background01 0         100.818367  0.859924      0.015323\n",
      "             1         111.250000 -1.000000      0.019358\n",
      "background02 0         107.885770  0.886930      0.014939\n",
      "             1         132.935484 -1.000000      0.018779\n",
      "background03 0          97.996920  0.906121      0.015372\n",
      "background04 0          58.217391  0.683313      0.017569\n",
      "             1          66.086379 -1.000000      0.021379\n",
      "background05 0          41.742138  0.186078      0.020004\n",
      "             1          40.460674 -1.000000      0.026190\n"
     ]
    }
   ],
   "source": [
    "print(letters.groupby(['background', 'rejected']).mean())\n",
    "print(datasheets.groupby(['background', 'rejected']).mean())\n",
    "print(patents.groupby(['background','rejected']).mean())\n",
    "print(magazines.groupby(['background','rejected']).mean())\n",
    "print(papers.groupby(['background', 'rejected']).mean())"
   ]
  },
  {
   "cell_type": "code",
   "execution_count": 10,
   "metadata": {},
   "outputs": [],
   "source": [
    "def class_metrics(class_df):\n",
    "    class_total = len(class_df)\n",
    "    average_IOU = class_df[class_df['rejected']==False].IOU.mean()\n",
    "    num_missed = len(class_df[class_df['rejected']==True])\n",
    "    return class_total, average_IOU, num_missed"
   ]
  },
  {
   "cell_type": "code",
   "execution_count": null,
   "metadata": {},
   "outputs": [],
   "source": []
  },
  {
   "cell_type": "code",
   "execution_count": 11,
   "metadata": {},
   "outputs": [
    {
     "name": "stdout",
     "output_type": "stream",
     "text": [
      "Average IOU for letters: 0.880653975258337\n",
      "Total letters in dataset: 4230\n",
      "Number of letters missed: 1021\n",
      "\n",
      "Average IOU for datasheets: 0.860687999470742\n",
      "Total datasheets in dataset: 4391\n",
      "Number of datasheets missed: 1264\n",
      "\n",
      "Average IOU for patents: 0.8258731103954\n",
      "Total patents in dataset: 4036\n",
      "Number of patents missed: 905\n",
      "\n",
      "Average IOU for magazines: 0.7665010742485776\n",
      "Total magazines in dataset: 4195\n",
      "Number of magazines missed: 856\n",
      "\n",
      "Average IOU for papers: 0.8153064394783627\n",
      "Total papers in dataset: 4097\n",
      "Number of papers missed: 746\n",
      "\n"
     ]
    }
   ],
   "source": [
    "class_total, letter_iou, letters_missed = class_metrics(class_df=letters)\n",
    "print(\"Average IOU for letters: \" + str(letter_iou))\n",
    "print(\"Total letters in dataset: \" + str(class_total))\n",
    "print(\"Number of letters missed: \"+ str(letters_missed))\n",
    "print()\n",
    "\n",
    "class_total, datasheets_iou, datasheets_missed = class_metrics(class_df=datasheets)\n",
    "print(\"Average IOU for datasheets: \" + str(datasheets_iou))\n",
    "print(\"Total datasheets in dataset: \" + str(class_total))\n",
    "print(\"Number of datasheets missed: \"+ str(datasheets_missed))\n",
    "print()\n",
    "\n",
    "class_total, patent_iou, patents_missed = class_metrics(class_df=patents)\n",
    "print(\"Average IOU for patents: \" + str(patent_iou))\n",
    "print(\"Total patents in dataset: \" + str(class_total))\n",
    "print(\"Number of patents missed: \"+ str(patents_missed))\n",
    "print()\n",
    "\n",
    "class_total, magazine_iou, magazines_missed = class_metrics(class_df=magazines)\n",
    "print(\"Average IOU for magazines: \" + str(magazine_iou))\n",
    "print(\"Total magazines in dataset: \" + str(class_total))\n",
    "print(\"Number of magazines missed: \"+ str(magazines_missed))\n",
    "print()\n",
    "\n",
    "class_total, paper_iou, papers_missed = class_metrics(class_df=papers)\n",
    "print(\"Average IOU for papers: \" + str(paper_iou))\n",
    "print(\"Total papers in dataset: \" + str(class_total))\n",
    "print(\"Number of papers missed: \"+ str(papers_missed))\n",
    "print()"
   ]
  },
  {
   "cell_type": "markdown",
   "metadata": {},
   "source": [
    "### Charts"
   ]
  },
  {
   "cell_type": "code",
   "execution_count": 12,
   "metadata": {},
   "outputs": [],
   "source": [
    "import seaborn as sns\n",
    "import matplotlib.pyplot as plt\n",
    "import numpy as np"
   ]
  },
  {
   "cell_type": "code",
   "execution_count": 13,
   "metadata": {},
   "outputs": [
    {
     "name": "stderr",
     "output_type": "stream",
     "text": [
      "/anaconda3/lib/python3.6/site-packages/matplotlib/font_manager.py:1320: UserWarning: findfont: Font family ['Helvetica'] not found. Falling back to DejaVu Sans\n",
      "  (prop.get_family(), self.defaultFamily[fontext]))\n"
     ]
    },
    {
     "data": {
      "image/png": "[encoded data removed]",
      "text/plain": [
       "<matplotlib.figure.Figure at 0x115381630>"
      ]
     },
     "metadata": {},
     "output_type": "display_data"
    }
   ],
   "source": [
    "fig=plt.figure(figsize=(9,5))\n",
    "\n",
    "hfont = {'fontname':'Helvetica', 'fontsize': 14}\n",
    "\n",
    "N = 6\n",
    "ind = np.arange(1, N)\n",
    "backgrounds = ['01', '02', '03', '04', '05']\n",
    "p1 = plt.bar(ind, detections.groupby('background').IOU.mean(), 0.30)\n",
    "\n",
    "plt.ylabel('Jaccard', **hfont)\n",
    "plt.xlabel('Background', **hfont)\n",
    "plt.title('Jaccard similarity scores', **hfont)\n",
    "plt.xticks(ind, backgrounds, **hfont)\n",
    "plt.yticks(np.arange(0.0, 1.2, 0.2), **hfont)\n",
    "\n",
    "plt.show()"
   ]
  },
  {
   "cell_type": "code",
   "execution_count": null,
   "metadata": {},
   "outputs": [],
   "source": [
    "fig=plt.figure(figsize=(9,5))\n",
    "\n",
    "hfont = {'fontname':'Helvetica', 'fontsize': 14}\n",
    "\n",
    "N = 6\n",
    "ind = np.arange(1, N)\n",
    "backgrounds = ['01', '02', '03', '04', '05']\n",
    "detection_rates = \n",
    "p1 = plt.bar(ind, detections.groupby('background').IOU.mean(), 0.25)\n",
    "\n",
    "plt.ylabel('Jaccard', **hfont)\n",
    "plt.xlabel('Background', **hfont)\n",
    "plt.title('Jaccard similarity scores', **hfont)\n",
    "plt.xticks(ind, backgrounds, **hfont)\n",
    "plt.yticks(np.arange(0.0, 1.2, 0.2), **hfont)\n",
    "\n",
    "plt.show()"
   ]
  },
  {
   "cell_type": "code",
   "execution_count": 22,
   "metadata": {
    "scrolled": false
   },
   "outputs": [
    {
     "name": "stderr",
     "output_type": "stream",
     "text": [
      "/anaconda3/lib/python3.6/site-packages/seaborn/categorical.py:1460: FutureWarning: remove_na is deprecated and is a private function. Do not use.\n",
      "  stat_data = remove_na(group_data)\n"
     ]
    },
    {
     "data": {
      "image/png": "[encoded data removed]",
      "text/plain": [
       "<matplotlib.figure.Figure at 0x1a1f302d68>"
      ]
     },
     "metadata": {},
     "output_type": "display_data"
    }
   ],
   "source": [
    "paper_detections = papers[papers['rejected']==False]\n",
    "# sns.stripplot(x='background', y='IOU', data=paper_detections, jitter=True)\n",
    "fig = plt.figure(figsize=(15,10))\n",
    "# csfont = {'fontname':'Comic Sans MS'}\n",
    "# hfont = {'fontname':'Helvetica'}\n",
    "\n",
    "sns.set(font_scale=2)\n",
    "sns.barplot(x='background', y='IOU', data=paper_detections)\n",
    "# data = paper_detections.groupby(['background']).IOU.mean()\n",
    "# sns.stripplot(x=data.index, y=data, data=data)\n",
    "\n",
    "# plt.title('title',**csfont)\n",
    "# plt.xlabel('xlabel', **hfont)\n",
    "\n",
    "plt.show()\n",
    "plt.close('all')"
   ]
  },
  {
   "cell_type": "code",
   "execution_count": 78,
   "metadata": {},
   "outputs": [
    {
     "ename": "KeyError",
     "evalue": "(1885.0, 0.0, '5883', 'k', 'top', 'center', 2487576350720179237, 90, None, 72.0, <weakref at 0x1a186d5ef8; to 'RendererAgg' at 0x1a16ba44e0>, 1.2)",
     "output_type": "error",
     "traceback": [
      "\u001b[0;31m---------------------------------------------------------------------------\u001b[0m",
      "\u001b[0;31mKeyError\u001b[0m                                  Traceback (most recent call last)",
      "\u001b[0;32m/anaconda3/lib/python3.6/site-packages/IPython/core/formatters.py\u001b[0m in \u001b[0;36m__call__\u001b[0;34m(self, obj)\u001b[0m\n\u001b[1;32m    330\u001b[0m                 \u001b[0;32mpass\u001b[0m\u001b[0;34m\u001b[0m\u001b[0m\n\u001b[1;32m    331\u001b[0m             \u001b[0;32melse\u001b[0m\u001b[0;34m:\u001b[0m\u001b[0;34m\u001b[0m\u001b[0m\n\u001b[0;32m--> 332\u001b[0;31m                 \u001b[0;32mreturn\u001b[0m \u001b[0mprinter\u001b[0m\u001b[0;34m(\u001b[0m\u001b[0mobj\u001b[0m\u001b[0;34m)\u001b[0m\u001b[0;34m\u001b[0m\u001b[0m\n\u001b[0m\u001b[1;32m    333\u001b[0m             \u001b[0;31m# Finally look for special method names\u001b[0m\u001b[0;34m\u001b[0m\u001b[0;34m\u001b[0m\u001b[0m\n\u001b[1;32m    334\u001b[0m             \u001b[0mmethod\u001b[0m \u001b[0;34m=\u001b[0m \u001b[0mget_real_method\u001b[0m\u001b[0;34m(\u001b[0m\u001b[0mobj\u001b[0m\u001b[0;34m,\u001b[0m \u001b[0mself\u001b[0m\u001b[0;34m.\u001b[0m\u001b[0mprint_method\u001b[0m\u001b[0;34m)\u001b[0m\u001b[0;34m\u001b[0m\u001b[0m\n",
      "\u001b[0;32m/anaconda3/lib/python3.6/site-packages/IPython/core/pylabtools.py\u001b[0m in \u001b[0;36m<lambda>\u001b[0;34m(fig)\u001b[0m\n\u001b[1;32m    235\u001b[0m \u001b[0;34m\u001b[0m\u001b[0m\n\u001b[1;32m    236\u001b[0m     \u001b[0;32mif\u001b[0m \u001b[0;34m'png'\u001b[0m \u001b[0;32min\u001b[0m \u001b[0mformats\u001b[0m\u001b[0;34m:\u001b[0m\u001b[0;34m\u001b[0m\u001b[0m\n\u001b[0;32m--> 237\u001b[0;31m         \u001b[0mpng_formatter\u001b[0m\u001b[0;34m.\u001b[0m\u001b[0mfor_type\u001b[0m\u001b[0;34m(\u001b[0m\u001b[0mFigure\u001b[0m\u001b[0;34m,\u001b[0m \u001b[0;32mlambda\u001b[0m \u001b[0mfig\u001b[0m\u001b[0;34m:\u001b[0m \u001b[0mprint_figure\u001b[0m\u001b[0;34m(\u001b[0m\u001b[0mfig\u001b[0m\u001b[0;34m,\u001b[0m \u001b[0;34m'png'\u001b[0m\u001b[0;34m,\u001b[0m \u001b[0;34m**\u001b[0m\u001b[0mkwargs\u001b[0m\u001b[0;34m)\u001b[0m\u001b[0;34m)\u001b[0m\u001b[0;34m\u001b[0m\u001b[0m\n\u001b[0m\u001b[1;32m    238\u001b[0m     \u001b[0;32mif\u001b[0m \u001b[0;34m'retina'\u001b[0m \u001b[0;32min\u001b[0m \u001b[0mformats\u001b[0m \u001b[0;32mor\u001b[0m \u001b[0;34m'png2x'\u001b[0m \u001b[0;32min\u001b[0m \u001b[0mformats\u001b[0m\u001b[0;34m:\u001b[0m\u001b[0;34m\u001b[0m\u001b[0m\n\u001b[1;32m    239\u001b[0m         \u001b[0mpng_formatter\u001b[0m\u001b[0;34m.\u001b[0m\u001b[0mfor_type\u001b[0m\u001b[0;34m(\u001b[0m\u001b[0mFigure\u001b[0m\u001b[0;34m,\u001b[0m \u001b[0;32mlambda\u001b[0m \u001b[0mfig\u001b[0m\u001b[0;34m:\u001b[0m \u001b[0mretina_figure\u001b[0m\u001b[0;34m(\u001b[0m\u001b[0mfig\u001b[0m\u001b[0;34m,\u001b[0m \u001b[0;34m**\u001b[0m\u001b[0mkwargs\u001b[0m\u001b[0;34m)\u001b[0m\u001b[0;34m)\u001b[0m\u001b[0;34m\u001b[0m\u001b[0m\n",
      "\u001b[0;32m/anaconda3/lib/python3.6/site-packages/IPython/core/pylabtools.py\u001b[0m in \u001b[0;36mprint_figure\u001b[0;34m(fig, fmt, bbox_inches, **kwargs)\u001b[0m\n\u001b[1;32m    119\u001b[0m \u001b[0;34m\u001b[0m\u001b[0m\n\u001b[1;32m    120\u001b[0m     \u001b[0mbytes_io\u001b[0m \u001b[0;34m=\u001b[0m \u001b[0mBytesIO\u001b[0m\u001b[0;34m(\u001b[0m\u001b[0;34m)\u001b[0m\u001b[0;34m\u001b[0m\u001b[0m\n\u001b[0;32m--> 121\u001b[0;31m     \u001b[0mfig\u001b[0m\u001b[0;34m.\u001b[0m\u001b[0mcanvas\u001b[0m\u001b[0;34m.\u001b[0m\u001b[0mprint_figure\u001b[0m\u001b[0;34m(\u001b[0m\u001b[0mbytes_io\u001b[0m\u001b[0;34m,\u001b[0m \u001b[0;34m**\u001b[0m\u001b[0mkw\u001b[0m\u001b[0;34m)\u001b[0m\u001b[0;34m\u001b[0m\u001b[0m\n\u001b[0m\u001b[1;32m    122\u001b[0m     \u001b[0mdata\u001b[0m \u001b[0;34m=\u001b[0m \u001b[0mbytes_io\u001b[0m\u001b[0;34m.\u001b[0m\u001b[0mgetvalue\u001b[0m\u001b[0;34m(\u001b[0m\u001b[0;34m)\u001b[0m\u001b[0;34m\u001b[0m\u001b[0m\n\u001b[1;32m    123\u001b[0m     \u001b[0;32mif\u001b[0m \u001b[0mfmt\u001b[0m \u001b[0;34m==\u001b[0m \u001b[0;34m'svg'\u001b[0m\u001b[0;34m:\u001b[0m\u001b[0;34m\u001b[0m\u001b[0m\n",
      "\u001b[0;32m/anaconda3/lib/python3.6/site-packages/matplotlib/backend_bases.py\u001b[0m in \u001b[0;36mprint_figure\u001b[0;34m(self, filename, dpi, facecolor, edgecolor, orientation, format, **kwargs)\u001b[0m\n\u001b[1;32m   2214\u001b[0m                     \u001b[0morientation\u001b[0m\u001b[0;34m=\u001b[0m\u001b[0morientation\u001b[0m\u001b[0;34m,\u001b[0m\u001b[0;34m\u001b[0m\u001b[0m\n\u001b[1;32m   2215\u001b[0m                     \u001b[0mdryrun\u001b[0m\u001b[0;34m=\u001b[0m\u001b[0;32mTrue\u001b[0m\u001b[0;34m,\u001b[0m\u001b[0;34m\u001b[0m\u001b[0m\n\u001b[0;32m-> 2216\u001b[0;31m                     **kwargs)\n\u001b[0m\u001b[1;32m   2217\u001b[0m                 \u001b[0mrenderer\u001b[0m \u001b[0;34m=\u001b[0m \u001b[0mself\u001b[0m\u001b[0;34m.\u001b[0m\u001b[0mfigure\u001b[0m\u001b[0;34m.\u001b[0m\u001b[0m_cachedRenderer\u001b[0m\u001b[0;34m\u001b[0m\u001b[0m\n\u001b[1;32m   2218\u001b[0m                 \u001b[0mbbox_inches\u001b[0m \u001b[0;34m=\u001b[0m \u001b[0mself\u001b[0m\u001b[0;34m.\u001b[0m\u001b[0mfigure\u001b[0m\u001b[0;34m.\u001b[0m\u001b[0mget_tightbbox\u001b[0m\u001b[0;34m(\u001b[0m\u001b[0mrenderer\u001b[0m\u001b[0;34m)\u001b[0m\u001b[0;34m\u001b[0m\u001b[0m\n",
      "\u001b[0;32m/anaconda3/lib/python3.6/site-packages/matplotlib/backends/backend_agg.py\u001b[0m in \u001b[0;36mprint_png\u001b[0;34m(self, filename_or_obj, *args, **kwargs)\u001b[0m\n\u001b[1;32m    505\u001b[0m \u001b[0;34m\u001b[0m\u001b[0m\n\u001b[1;32m    506\u001b[0m     \u001b[0;32mdef\u001b[0m \u001b[0mprint_png\u001b[0m\u001b[0;34m(\u001b[0m\u001b[0mself\u001b[0m\u001b[0;34m,\u001b[0m \u001b[0mfilename_or_obj\u001b[0m\u001b[0;34m,\u001b[0m \u001b[0;34m*\u001b[0m\u001b[0margs\u001b[0m\u001b[0;34m,\u001b[0m \u001b[0;34m**\u001b[0m\u001b[0mkwargs\u001b[0m\u001b[0;34m)\u001b[0m\u001b[0;34m:\u001b[0m\u001b[0;34m\u001b[0m\u001b[0m\n\u001b[0;32m--> 507\u001b[0;31m         \u001b[0mFigureCanvasAgg\u001b[0m\u001b[0;34m.\u001b[0m\u001b[0mdraw\u001b[0m\u001b[0;34m(\u001b[0m\u001b[0mself\u001b[0m\u001b[0;34m)\u001b[0m\u001b[0;34m\u001b[0m\u001b[0m\n\u001b[0m\u001b[1;32m    508\u001b[0m         \u001b[0mrenderer\u001b[0m \u001b[0;34m=\u001b[0m \u001b[0mself\u001b[0m\u001b[0;34m.\u001b[0m\u001b[0mget_renderer\u001b[0m\u001b[0;34m(\u001b[0m\u001b[0;34m)\u001b[0m\u001b[0;34m\u001b[0m\u001b[0m\n\u001b[1;32m    509\u001b[0m         \u001b[0moriginal_dpi\u001b[0m \u001b[0;34m=\u001b[0m \u001b[0mrenderer\u001b[0m\u001b[0;34m.\u001b[0m\u001b[0mdpi\u001b[0m\u001b[0;34m\u001b[0m\u001b[0m\n",
      "\u001b[0;32m/anaconda3/lib/python3.6/site-packages/matplotlib/backends/backend_agg.py\u001b[0m in \u001b[0;36mdraw\u001b[0;34m(self)\u001b[0m\n\u001b[1;32m    428\u001b[0m             \u001b[0;31m# if toolbar:\u001b[0m\u001b[0;34m\u001b[0m\u001b[0;34m\u001b[0m\u001b[0m\n\u001b[1;32m    429\u001b[0m             \u001b[0;31m#     toolbar.set_cursor(cursors.WAIT)\u001b[0m\u001b[0;34m\u001b[0m\u001b[0;34m\u001b[0m\u001b[0m\n\u001b[0;32m--> 430\u001b[0;31m             \u001b[0mself\u001b[0m\u001b[0;34m.\u001b[0m\u001b[0mfigure\u001b[0m\u001b[0;34m.\u001b[0m\u001b[0mdraw\u001b[0m\u001b[0;34m(\u001b[0m\u001b[0mself\u001b[0m\u001b[0;34m.\u001b[0m\u001b[0mrenderer\u001b[0m\u001b[0;34m)\u001b[0m\u001b[0;34m\u001b[0m\u001b[0m\n\u001b[0m\u001b[1;32m    431\u001b[0m         \u001b[0;32mfinally\u001b[0m\u001b[0;34m:\u001b[0m\u001b[0;34m\u001b[0m\u001b[0m\n\u001b[1;32m    432\u001b[0m             \u001b[0;31m# if toolbar:\u001b[0m\u001b[0;34m\u001b[0m\u001b[0;34m\u001b[0m\u001b[0m\n",
      "\u001b[0;32m/anaconda3/lib/python3.6/site-packages/matplotlib/artist.py\u001b[0m in \u001b[0;36mdraw_wrapper\u001b[0;34m(artist, renderer, *args, **kwargs)\u001b[0m\n\u001b[1;32m     53\u001b[0m                 \u001b[0mrenderer\u001b[0m\u001b[0;34m.\u001b[0m\u001b[0mstart_filter\u001b[0m\u001b[0;34m(\u001b[0m\u001b[0;34m)\u001b[0m\u001b[0;34m\u001b[0m\u001b[0m\n\u001b[1;32m     54\u001b[0m \u001b[0;34m\u001b[0m\u001b[0m\n\u001b[0;32m---> 55\u001b[0;31m             \u001b[0;32mreturn\u001b[0m \u001b[0mdraw\u001b[0m\u001b[0;34m(\u001b[0m\u001b[0martist\u001b[0m\u001b[0;34m,\u001b[0m \u001b[0mrenderer\u001b[0m\u001b[0;34m,\u001b[0m \u001b[0;34m*\u001b[0m\u001b[0margs\u001b[0m\u001b[0;34m,\u001b[0m \u001b[0;34m**\u001b[0m\u001b[0mkwargs\u001b[0m\u001b[0;34m)\u001b[0m\u001b[0;34m\u001b[0m\u001b[0m\n\u001b[0m\u001b[1;32m     56\u001b[0m         \u001b[0;32mfinally\u001b[0m\u001b[0;34m:\u001b[0m\u001b[0;34m\u001b[0m\u001b[0m\n\u001b[1;32m     57\u001b[0m             \u001b[0;32mif\u001b[0m \u001b[0martist\u001b[0m\u001b[0;34m.\u001b[0m\u001b[0mget_agg_filter\u001b[0m\u001b[0;34m(\u001b[0m\u001b[0;34m)\u001b[0m \u001b[0;32mis\u001b[0m \u001b[0;32mnot\u001b[0m \u001b[0;32mNone\u001b[0m\u001b[0;34m:\u001b[0m\u001b[0;34m\u001b[0m\u001b[0m\n",
      "\u001b[0;32m/anaconda3/lib/python3.6/site-packages/matplotlib/figure.py\u001b[0m in \u001b[0;36mdraw\u001b[0;34m(self, renderer)\u001b[0m\n\u001b[1;32m   1297\u001b[0m \u001b[0;34m\u001b[0m\u001b[0m\n\u001b[1;32m   1298\u001b[0m             mimage._draw_list_compositing_images(\n\u001b[0;32m-> 1299\u001b[0;31m                 renderer, self, artists, self.suppressComposite)\n\u001b[0m\u001b[1;32m   1300\u001b[0m \u001b[0;34m\u001b[0m\u001b[0m\n\u001b[1;32m   1301\u001b[0m             \u001b[0mrenderer\u001b[0m\u001b[0;34m.\u001b[0m\u001b[0mclose_group\u001b[0m\u001b[0;34m(\u001b[0m\u001b[0;34m'figure'\u001b[0m\u001b[0;34m)\u001b[0m\u001b[0;34m\u001b[0m\u001b[0m\n",
      "\u001b[0;32m/anaconda3/lib/python3.6/site-packages/matplotlib/image.py\u001b[0m in \u001b[0;36m_draw_list_compositing_images\u001b[0;34m(renderer, parent, artists, suppress_composite)\u001b[0m\n\u001b[1;32m    136\u001b[0m     \u001b[0;32mif\u001b[0m \u001b[0mnot_composite\u001b[0m \u001b[0;32mor\u001b[0m \u001b[0;32mnot\u001b[0m \u001b[0mhas_images\u001b[0m\u001b[0;34m:\u001b[0m\u001b[0;34m\u001b[0m\u001b[0m\n\u001b[1;32m    137\u001b[0m         \u001b[0;32mfor\u001b[0m \u001b[0ma\u001b[0m \u001b[0;32min\u001b[0m \u001b[0martists\u001b[0m\u001b[0;34m:\u001b[0m\u001b[0;34m\u001b[0m\u001b[0m\n\u001b[0;32m--> 138\u001b[0;31m             \u001b[0ma\u001b[0m\u001b[0;34m.\u001b[0m\u001b[0mdraw\u001b[0m\u001b[0;34m(\u001b[0m\u001b[0mrenderer\u001b[0m\u001b[0;34m)\u001b[0m\u001b[0;34m\u001b[0m\u001b[0m\n\u001b[0m\u001b[1;32m    139\u001b[0m     \u001b[0;32melse\u001b[0m\u001b[0;34m:\u001b[0m\u001b[0;34m\u001b[0m\u001b[0m\n\u001b[1;32m    140\u001b[0m         \u001b[0;31m# Composite any adjacent images together\u001b[0m\u001b[0;34m\u001b[0m\u001b[0;34m\u001b[0m\u001b[0m\n",
      "\u001b[0;32m/anaconda3/lib/python3.6/site-packages/matplotlib/artist.py\u001b[0m in \u001b[0;36mdraw_wrapper\u001b[0;34m(artist, renderer, *args, **kwargs)\u001b[0m\n\u001b[1;32m     53\u001b[0m                 \u001b[0mrenderer\u001b[0m\u001b[0;34m.\u001b[0m\u001b[0mstart_filter\u001b[0m\u001b[0;34m(\u001b[0m\u001b[0;34m)\u001b[0m\u001b[0;34m\u001b[0m\u001b[0m\n\u001b[1;32m     54\u001b[0m \u001b[0;34m\u001b[0m\u001b[0m\n\u001b[0;32m---> 55\u001b[0;31m             \u001b[0;32mreturn\u001b[0m \u001b[0mdraw\u001b[0m\u001b[0;34m(\u001b[0m\u001b[0martist\u001b[0m\u001b[0;34m,\u001b[0m \u001b[0mrenderer\u001b[0m\u001b[0;34m,\u001b[0m \u001b[0;34m*\u001b[0m\u001b[0margs\u001b[0m\u001b[0;34m,\u001b[0m \u001b[0;34m**\u001b[0m\u001b[0mkwargs\u001b[0m\u001b[0;34m)\u001b[0m\u001b[0;34m\u001b[0m\u001b[0m\n\u001b[0m\u001b[1;32m     56\u001b[0m         \u001b[0;32mfinally\u001b[0m\u001b[0;34m:\u001b[0m\u001b[0;34m\u001b[0m\u001b[0m\n\u001b[1;32m     57\u001b[0m             \u001b[0;32mif\u001b[0m \u001b[0martist\u001b[0m\u001b[0;34m.\u001b[0m\u001b[0mget_agg_filter\u001b[0m\u001b[0;34m(\u001b[0m\u001b[0;34m)\u001b[0m \u001b[0;32mis\u001b[0m \u001b[0;32mnot\u001b[0m \u001b[0;32mNone\u001b[0m\u001b[0;34m:\u001b[0m\u001b[0;34m\u001b[0m\u001b[0m\n",
      "\u001b[0;32m/anaconda3/lib/python3.6/site-packages/matplotlib/axes/_base.py\u001b[0m in \u001b[0;36mdraw\u001b[0;34m(self, renderer, inframe)\u001b[0m\n\u001b[1;32m   2435\u001b[0m             \u001b[0mrenderer\u001b[0m\u001b[0;34m.\u001b[0m\u001b[0mstop_rasterizing\u001b[0m\u001b[0;34m(\u001b[0m\u001b[0;34m)\u001b[0m\u001b[0;34m\u001b[0m\u001b[0m\n\u001b[1;32m   2436\u001b[0m \u001b[0;34m\u001b[0m\u001b[0m\n\u001b[0;32m-> 2437\u001b[0;31m         \u001b[0mmimage\u001b[0m\u001b[0;34m.\u001b[0m\u001b[0m_draw_list_compositing_images\u001b[0m\u001b[0;34m(\u001b[0m\u001b[0mrenderer\u001b[0m\u001b[0;34m,\u001b[0m \u001b[0mself\u001b[0m\u001b[0;34m,\u001b[0m \u001b[0martists\u001b[0m\u001b[0;34m)\u001b[0m\u001b[0;34m\u001b[0m\u001b[0m\n\u001b[0m\u001b[1;32m   2438\u001b[0m \u001b[0;34m\u001b[0m\u001b[0m\n\u001b[1;32m   2439\u001b[0m         \u001b[0mrenderer\u001b[0m\u001b[0;34m.\u001b[0m\u001b[0mclose_group\u001b[0m\u001b[0;34m(\u001b[0m\u001b[0;34m'axes'\u001b[0m\u001b[0;34m)\u001b[0m\u001b[0;34m\u001b[0m\u001b[0m\n",
      "\u001b[0;32m/anaconda3/lib/python3.6/site-packages/matplotlib/image.py\u001b[0m in \u001b[0;36m_draw_list_compositing_images\u001b[0;34m(renderer, parent, artists, suppress_composite)\u001b[0m\n\u001b[1;32m    136\u001b[0m     \u001b[0;32mif\u001b[0m \u001b[0mnot_composite\u001b[0m \u001b[0;32mor\u001b[0m \u001b[0;32mnot\u001b[0m \u001b[0mhas_images\u001b[0m\u001b[0;34m:\u001b[0m\u001b[0;34m\u001b[0m\u001b[0m\n\u001b[1;32m    137\u001b[0m         \u001b[0;32mfor\u001b[0m \u001b[0ma\u001b[0m \u001b[0;32min\u001b[0m \u001b[0martists\u001b[0m\u001b[0;34m:\u001b[0m\u001b[0;34m\u001b[0m\u001b[0m\n\u001b[0;32m--> 138\u001b[0;31m             \u001b[0ma\u001b[0m\u001b[0;34m.\u001b[0m\u001b[0mdraw\u001b[0m\u001b[0;34m(\u001b[0m\u001b[0mrenderer\u001b[0m\u001b[0;34m)\u001b[0m\u001b[0;34m\u001b[0m\u001b[0m\n\u001b[0m\u001b[1;32m    139\u001b[0m     \u001b[0;32melse\u001b[0m\u001b[0;34m:\u001b[0m\u001b[0;34m\u001b[0m\u001b[0m\n\u001b[1;32m    140\u001b[0m         \u001b[0;31m# Composite any adjacent images together\u001b[0m\u001b[0;34m\u001b[0m\u001b[0;34m\u001b[0m\u001b[0m\n",
      "\u001b[0;32m/anaconda3/lib/python3.6/site-packages/matplotlib/artist.py\u001b[0m in \u001b[0;36mdraw_wrapper\u001b[0;34m(artist, renderer, *args, **kwargs)\u001b[0m\n\u001b[1;32m     53\u001b[0m                 \u001b[0mrenderer\u001b[0m\u001b[0;34m.\u001b[0m\u001b[0mstart_filter\u001b[0m\u001b[0;34m(\u001b[0m\u001b[0;34m)\u001b[0m\u001b[0;34m\u001b[0m\u001b[0m\n\u001b[1;32m     54\u001b[0m \u001b[0;34m\u001b[0m\u001b[0m\n\u001b[0;32m---> 55\u001b[0;31m             \u001b[0;32mreturn\u001b[0m \u001b[0mdraw\u001b[0m\u001b[0;34m(\u001b[0m\u001b[0martist\u001b[0m\u001b[0;34m,\u001b[0m \u001b[0mrenderer\u001b[0m\u001b[0;34m,\u001b[0m \u001b[0;34m*\u001b[0m\u001b[0margs\u001b[0m\u001b[0;34m,\u001b[0m \u001b[0;34m**\u001b[0m\u001b[0mkwargs\u001b[0m\u001b[0;34m)\u001b[0m\u001b[0;34m\u001b[0m\u001b[0m\n\u001b[0m\u001b[1;32m     56\u001b[0m         \u001b[0;32mfinally\u001b[0m\u001b[0;34m:\u001b[0m\u001b[0;34m\u001b[0m\u001b[0m\n\u001b[1;32m     57\u001b[0m             \u001b[0;32mif\u001b[0m \u001b[0martist\u001b[0m\u001b[0;34m.\u001b[0m\u001b[0mget_agg_filter\u001b[0m\u001b[0;34m(\u001b[0m\u001b[0;34m)\u001b[0m \u001b[0;32mis\u001b[0m \u001b[0;32mnot\u001b[0m \u001b[0;32mNone\u001b[0m\u001b[0;34m:\u001b[0m\u001b[0;34m\u001b[0m\u001b[0m\n",
      "\u001b[0;32m/anaconda3/lib/python3.6/site-packages/matplotlib/axis.py\u001b[0m in \u001b[0;36mdraw\u001b[0;34m(self, renderer, *args, **kwargs)\u001b[0m\n\u001b[1;32m   1133\u001b[0m         \u001b[0mticks_to_draw\u001b[0m \u001b[0;34m=\u001b[0m \u001b[0mself\u001b[0m\u001b[0;34m.\u001b[0m\u001b[0m_update_ticks\u001b[0m\u001b[0;34m(\u001b[0m\u001b[0mrenderer\u001b[0m\u001b[0;34m)\u001b[0m\u001b[0;34m\u001b[0m\u001b[0m\n\u001b[1;32m   1134\u001b[0m         ticklabelBoxes, ticklabelBoxes2 = self._get_tick_bboxes(ticks_to_draw,\n\u001b[0;32m-> 1135\u001b[0;31m                                                                 renderer)\n\u001b[0m\u001b[1;32m   1136\u001b[0m \u001b[0;34m\u001b[0m\u001b[0m\n\u001b[1;32m   1137\u001b[0m         \u001b[0;32mfor\u001b[0m \u001b[0mtick\u001b[0m \u001b[0;32min\u001b[0m \u001b[0mticks_to_draw\u001b[0m\u001b[0;34m:\u001b[0m\u001b[0;34m\u001b[0m\u001b[0m\n",
      "\u001b[0;32m/anaconda3/lib/python3.6/site-packages/matplotlib/axis.py\u001b[0m in \u001b[0;36m_get_tick_bboxes\u001b[0;34m(self, ticks, renderer)\u001b[0m\n\u001b[1;32m   1073\u001b[0m         \u001b[0;32mfor\u001b[0m \u001b[0mtick\u001b[0m \u001b[0;32min\u001b[0m \u001b[0mticks\u001b[0m\u001b[0;34m:\u001b[0m\u001b[0;34m\u001b[0m\u001b[0m\n\u001b[1;32m   1074\u001b[0m             \u001b[0;32mif\u001b[0m \u001b[0mtick\u001b[0m\u001b[0;34m.\u001b[0m\u001b[0mlabel1On\u001b[0m \u001b[0;32mand\u001b[0m \u001b[0mtick\u001b[0m\u001b[0;34m.\u001b[0m\u001b[0mlabel1\u001b[0m\u001b[0;34m.\u001b[0m\u001b[0mget_visible\u001b[0m\u001b[0;34m(\u001b[0m\u001b[0;34m)\u001b[0m\u001b[0;34m:\u001b[0m\u001b[0;34m\u001b[0m\u001b[0m\n\u001b[0;32m-> 1075\u001b[0;31m                 \u001b[0mextent\u001b[0m \u001b[0;34m=\u001b[0m \u001b[0mtick\u001b[0m\u001b[0;34m.\u001b[0m\u001b[0mlabel1\u001b[0m\u001b[0;34m.\u001b[0m\u001b[0mget_window_extent\u001b[0m\u001b[0;34m(\u001b[0m\u001b[0mrenderer\u001b[0m\u001b[0;34m)\u001b[0m\u001b[0;34m\u001b[0m\u001b[0m\n\u001b[0m\u001b[1;32m   1076\u001b[0m                 \u001b[0mticklabelBoxes\u001b[0m\u001b[0;34m.\u001b[0m\u001b[0mappend\u001b[0m\u001b[0;34m(\u001b[0m\u001b[0mextent\u001b[0m\u001b[0;34m)\u001b[0m\u001b[0;34m\u001b[0m\u001b[0m\n\u001b[1;32m   1077\u001b[0m             \u001b[0;32mif\u001b[0m \u001b[0mtick\u001b[0m\u001b[0;34m.\u001b[0m\u001b[0mlabel2On\u001b[0m \u001b[0;32mand\u001b[0m \u001b[0mtick\u001b[0m\u001b[0;34m.\u001b[0m\u001b[0mlabel2\u001b[0m\u001b[0;34m.\u001b[0m\u001b[0mget_visible\u001b[0m\u001b[0;34m(\u001b[0m\u001b[0;34m)\u001b[0m\u001b[0;34m:\u001b[0m\u001b[0;34m\u001b[0m\u001b[0m\n",
      "\u001b[0;32m/anaconda3/lib/python3.6/site-packages/matplotlib/text.py\u001b[0m in \u001b[0;36mget_window_extent\u001b[0;34m(self, renderer, dpi)\u001b[0m\n\u001b[1;32m    931\u001b[0m             \u001b[0;32mraise\u001b[0m \u001b[0mRuntimeError\u001b[0m\u001b[0;34m(\u001b[0m\u001b[0;34m'Cannot get window extent w/o renderer'\u001b[0m\u001b[0;34m)\u001b[0m\u001b[0;34m\u001b[0m\u001b[0m\n\u001b[1;32m    932\u001b[0m \u001b[0;34m\u001b[0m\u001b[0m\n\u001b[0;32m--> 933\u001b[0;31m         \u001b[0mbbox\u001b[0m\u001b[0;34m,\u001b[0m \u001b[0minfo\u001b[0m\u001b[0;34m,\u001b[0m \u001b[0mdescent\u001b[0m \u001b[0;34m=\u001b[0m \u001b[0mself\u001b[0m\u001b[0;34m.\u001b[0m\u001b[0m_get_layout\u001b[0m\u001b[0;34m(\u001b[0m\u001b[0mself\u001b[0m\u001b[0;34m.\u001b[0m\u001b[0m_renderer\u001b[0m\u001b[0;34m)\u001b[0m\u001b[0;34m\u001b[0m\u001b[0m\n\u001b[0m\u001b[1;32m    934\u001b[0m         \u001b[0mx\u001b[0m\u001b[0;34m,\u001b[0m \u001b[0my\u001b[0m \u001b[0;34m=\u001b[0m \u001b[0mself\u001b[0m\u001b[0;34m.\u001b[0m\u001b[0mget_unitless_position\u001b[0m\u001b[0;34m(\u001b[0m\u001b[0;34m)\u001b[0m\u001b[0;34m\u001b[0m\u001b[0m\n\u001b[1;32m    935\u001b[0m         \u001b[0mx\u001b[0m\u001b[0;34m,\u001b[0m \u001b[0my\u001b[0m \u001b[0;34m=\u001b[0m \u001b[0mself\u001b[0m\u001b[0;34m.\u001b[0m\u001b[0mget_transform\u001b[0m\u001b[0;34m(\u001b[0m\u001b[0;34m)\u001b[0m\u001b[0;34m.\u001b[0m\u001b[0mtransform_point\u001b[0m\u001b[0;34m(\u001b[0m\u001b[0;34m(\u001b[0m\u001b[0mx\u001b[0m\u001b[0;34m,\u001b[0m \u001b[0my\u001b[0m\u001b[0;34m)\u001b[0m\u001b[0;34m)\u001b[0m\u001b[0;34m\u001b[0m\u001b[0m\n",
      "\u001b[0;32m/anaconda3/lib/python3.6/site-packages/matplotlib/text.py\u001b[0m in \u001b[0;36m_get_layout\u001b[0;34m(self, renderer)\u001b[0m\n\u001b[1;32m    432\u001b[0m \u001b[0;34m\u001b[0m\u001b[0m\n\u001b[1;32m    433\u001b[0m         \u001b[0mret\u001b[0m \u001b[0;34m=\u001b[0m \u001b[0mbbox\u001b[0m\u001b[0;34m,\u001b[0m \u001b[0mlist\u001b[0m\u001b[0;34m(\u001b[0m\u001b[0mzip\u001b[0m\u001b[0;34m(\u001b[0m\u001b[0mlines\u001b[0m\u001b[0;34m,\u001b[0m \u001b[0mwhs\u001b[0m\u001b[0;34m,\u001b[0m \u001b[0mxs\u001b[0m\u001b[0;34m,\u001b[0m \u001b[0mys\u001b[0m\u001b[0;34m)\u001b[0m\u001b[0;34m)\u001b[0m\u001b[0;34m,\u001b[0m \u001b[0mdescent\u001b[0m\u001b[0;34m\u001b[0m\u001b[0m\n\u001b[0;32m--> 434\u001b[0;31m         \u001b[0mself\u001b[0m\u001b[0;34m.\u001b[0m\u001b[0m_cached\u001b[0m\u001b[0;34m[\u001b[0m\u001b[0mkey\u001b[0m\u001b[0;34m]\u001b[0m \u001b[0;34m=\u001b[0m \u001b[0mret\u001b[0m\u001b[0;34m\u001b[0m\u001b[0m\n\u001b[0m\u001b[1;32m    435\u001b[0m         \u001b[0;32mreturn\u001b[0m \u001b[0mret\u001b[0m\u001b[0;34m\u001b[0m\u001b[0m\n\u001b[1;32m    436\u001b[0m \u001b[0;34m\u001b[0m\u001b[0m\n",
      "\u001b[0;32m/anaconda3/lib/python3.6/site-packages/matplotlib/cbook/__init__.py\u001b[0m in \u001b[0;36m__setitem__\u001b[0;34m(self, k, v)\u001b[0m\n\u001b[1;32m   1146\u001b[0m         \u001b[0;32mif\u001b[0m \u001b[0mk\u001b[0m \u001b[0;32mnot\u001b[0m \u001b[0;32min\u001b[0m \u001b[0mself\u001b[0m\u001b[0;34m:\u001b[0m\u001b[0;34m\u001b[0m\u001b[0m\n\u001b[1;32m   1147\u001b[0m             \u001b[0;32mif\u001b[0m \u001b[0mlen\u001b[0m\u001b[0;34m(\u001b[0m\u001b[0mself\u001b[0m\u001b[0;34m)\u001b[0m \u001b[0;34m>=\u001b[0m \u001b[0mself\u001b[0m\u001b[0;34m.\u001b[0m\u001b[0mmaxsize\u001b[0m\u001b[0;34m:\u001b[0m\u001b[0;34m\u001b[0m\u001b[0m\n\u001b[0;32m-> 1148\u001b[0;31m                 \u001b[0;32mdel\u001b[0m \u001b[0mself\u001b[0m\u001b[0;34m[\u001b[0m\u001b[0mself\u001b[0m\u001b[0;34m.\u001b[0m\u001b[0m_killkeys\u001b[0m\u001b[0;34m[\u001b[0m\u001b[0;36m0\u001b[0m\u001b[0;34m]\u001b[0m\u001b[0;34m]\u001b[0m\u001b[0;34m\u001b[0m\u001b[0m\n\u001b[0m\u001b[1;32m   1149\u001b[0m                 \u001b[0;32mdel\u001b[0m \u001b[0mself\u001b[0m\u001b[0;34m.\u001b[0m\u001b[0m_killkeys\u001b[0m\u001b[0;34m[\u001b[0m\u001b[0;36m0\u001b[0m\u001b[0;34m]\u001b[0m\u001b[0;34m\u001b[0m\u001b[0m\n\u001b[1;32m   1150\u001b[0m             \u001b[0mself\u001b[0m\u001b[0;34m.\u001b[0m\u001b[0m_killkeys\u001b[0m\u001b[0;34m.\u001b[0m\u001b[0mappend\u001b[0m\u001b[0;34m(\u001b[0m\u001b[0mk\u001b[0m\u001b[0;34m)\u001b[0m\u001b[0;34m\u001b[0m\u001b[0m\n",
      "\u001b[0;31mKeyError\u001b[0m: (1885.0, 0.0, '5883', 'k', 'top', 'center', 2487576350720179237, 90, None, 72.0, <weakref at 0x1a186d5ef8; to 'RendererAgg' at 0x1a16ba44e0>, 1.2)"
     ]
    },
    {
     "data": {
      "text/plain": [
       "<matplotlib.figure.Figure at 0x1a1942b6d8>"
      ]
     },
     "metadata": {},
     "output_type": "display_data"
    }
   ],
   "source": [
    "paper_detections.plot()\n",
    "plt.show()"
   ]
  },
  {
   "cell_type": "code",
   "execution_count": null,
   "metadata": {},
   "outputs": [],
   "source": [
    "p"
   ]
  }
 ],
 "metadata": {
  "kernelspec": {
   "display_name": "Python 3",
   "language": "python",
   "name": "python3"
  },
  "language_info": {
   "codemirror_mode": {
    "name": "ipython",
    "version": 3
   },
   "file_extension": ".py",
   "mimetype": "text/x-python",
   "name": "python",
   "nbconvert_exporter": "python",
   "pygments_lexer": "ipython3",
   "version": "3.6.4"
  }
 },
 "nbformat": 4,
 "nbformat_minor": 2
}
